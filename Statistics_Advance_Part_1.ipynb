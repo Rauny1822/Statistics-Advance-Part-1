{
  "nbformat": 4,
  "nbformat_minor": 0,
  "metadata": {
    "colab": {
      "provenance": []
    },
    "kernelspec": {
      "name": "python3",
      "display_name": "Python 3"
    },
    "language_info": {
      "name": "python"
    }
  },
  "cells": [
    {
      "cell_type": "markdown",
      "source": [
        "#Statistics Advance Part 1"
      ],
      "metadata": {
        "id": "qcYjyq25yMyW"
      }
    },
    {
      "cell_type": "markdown",
      "source": [
        "1. What is a random variable in probability theory?\n",
        "-  A random variable is a numerical quantity whose value is determined by the outcome of a random experiment.\n",
        "\n",
        "-  In simple words, it is a function that assigns a number to each possible outcome of a random process."
      ],
      "metadata": {
        "id": "dbpJJNnAyYvR"
      }
    },
    {
      "cell_type": "markdown",
      "source": [
        "2.What are the types of random variables?\n",
        "-   Types of Random Variables:\n",
        "Discrete Random Variable\n",
        "\n",
        "  Takes specific, countable values (like 0, 1, 2, …)\n",
        "\n",
        " Example: Number of heads when tossing 3 coins\n",
        "\n",
        "-  Continuous Random Variable\n",
        "\n",
        "  Takes any value within a range (possibly infinite)\n",
        "\n",
        "  Example: Time taken by a bus to arrive (e.g., 7.5 mins, 8.1 mins)\n",
        "\n"
      ],
      "metadata": {
        "id": "NPCJCZBE3pnh"
      }
    },
    {
      "cell_type": "markdown",
      "source": [
        "3. What is the difference between discrete and continuous distributions?\n",
        "-  A DISCRETE distribution is used when the random variable takes specific, countable values. These values are often whole numbers.\n",
        "\n",
        "-  It uses a Probability Mass Function (PMF).\n",
        "\n",
        "-  The probability is assigned to each exact value.\n",
        "\n",
        "  Example: Number of students in a class\n",
        "\n",
        " Number of heads in 3 coin tosses\n",
        "\n",
        " Score obtained by rolling a die\n",
        "-   A CONTINUOUS distribution is used when the random variable can take any value within a given range, including decimals and fractions.\n",
        "\n",
        "-  It uses a Probability Density Function (PDF).\n",
        "\n",
        "-  The probability of a single exact value is 0; we consider probability over intervals.\n",
        "\n",
        "  Example:\n",
        "\n",
        "  Height of students\n",
        "\n",
        "  Temperature in a room\n",
        "\n",
        "  Time taken to complete a task\n",
        "\n",
        "\n",
        "\n"
      ],
      "metadata": {
        "id": "8_g9Aube4ffm"
      }
    },
    {
      "cell_type": "markdown",
      "source": [
        "4.What are probability distribution functions (PDF)?\n",
        "-  In probability theory, a Probability Distribution Function (PDF) describes the likelihood of a continuous random variable taking on a particular value within a range.\n",
        "\n"
      ],
      "metadata": {
        "id": "CT3g_RUn7Vt0"
      }
    },
    {
      "cell_type": "markdown",
      "source": [
        "5.How do cumulative distribution functions (CDF) differ from probability distribution functions (PDF)?\n",
        "-  A Probability Density Function (PDF) tells us the relative likelihood of a continuous random variable falling within a particular small interval.\n",
        "\n",
        "\n",
        "  PDF is used for continuous random variables.\n",
        "\n",
        "  The probability of an exact value is 0,but the probability over an interval is calculated by area under the curve.\n",
        "\n",
        "  Denoted as f(x).\n",
        "-  A Cumulative Distribution Function (CDF) gives the probability that a random variable X is less than or equal to a value x.\n",
        "\n",
        "\n",
        "  CDF accumulates probabilities from the left up to a point.\n",
        "\n",
        "  It is the integral (area) of the PDF from -∞ to x.\n",
        "\n",
        "  Denoted as F(x).\n",
        "\n",
        "  The value of CDF is always between 0 and 1."
      ],
      "metadata": {
        "id": "T6euKeUi8DmE"
      }
    },
    {
      "cell_type": "markdown",
      "source": [
        "6.What is a discrete uniform distribution?\n",
        "\n",
        "-  A Discrete Uniform Distribution is a type of probability distribution in which all possible outcomes are equally likely. Each value in the sample space has the same probability of occurring."
      ],
      "metadata": {
        "id": "1B2_JoaU9MuO"
      }
    },
    {
      "cell_type": "markdown",
      "source": [
        "7. What are the key properties of a Bernoulli distribution?\n",
        "\n",
        "-  The Bernoulli distribution is one of the simplest and most important discrete probability distributions. It models situations where there are only two possible outcomes: success (usually coded as 1) and failure (usually coded as 0).\n",
        "\n"
      ],
      "metadata": {
        "id": "TexexiKs_ltB"
      }
    },
    {
      "cell_type": "markdown",
      "source": [
        "8.What is the binomial distribution, and how is it used in probability?\n",
        "\n",
        "-  The Binomial distribution is a discrete probability distribution that models the number of successes in a fixed number of independent trials, where each trial has only two outcomes (success or failure) and the probability of success stays the same.\n",
        "\n"
      ],
      "metadata": {
        "id": "4dxrSy9-ADsm"
      }
    },
    {
      "cell_type": "markdown",
      "source": [
        "9.What is the Poisson distribution and where is it applied?\n",
        "\n",
        "-  The Poisson distribution is a discrete probability distribution that describes the number of times an event occurs in a fixed interval of time or space, given that the events happen independently and at a constant average rate."
      ],
      "metadata": {
        "id": "0SGBP93yATrE"
      }
    },
    {
      "cell_type": "markdown",
      "source": [
        "10.What is a continuous uniform distribution?\n",
        "-  A Continuous Uniform Distribution is a probability distribution in which all values within a given interval are equally likely to occur.\n",
        "\n",
        "-  It is also known as a rectangular distribution because its graph is a flat line over the interval."
      ],
      "metadata": {
        "id": "fET2GRiIAiM8"
      }
    },
    {
      "cell_type": "markdown",
      "source": [
        "11.What are the characteristics of a normal distribution?\n",
        "\n",
        "-  The Normal Distribution, also called the Gaussian distribution, is a continuous probability distribution that is symmetrical and bell-shaped, where most of the values cluster around the mean, and probabilities decrease as you move away from the center."
      ],
      "metadata": {
        "id": "jh_MOXAgAyUd"
      }
    },
    {
      "cell_type": "markdown",
      "source": [
        "12. What is the standard normal distribution, and why is it important?\n",
        "-  The Standard Normal Distribution is a special type of normal distribution that has a mean (μ) of 0 and a standard deviation (σ) of 1.\n",
        "\n",
        "-  It is a bell-shaped, symmetrical curve centered at zero and is used to simplify calculations involving the normal distribution."
      ],
      "metadata": {
        "id": "4cNhbPivBYV1"
      }
    },
    {
      "cell_type": "markdown",
      "source": [
        "13. What is the Central Limit Theorem (CLT), and why is it critical in statistics?\n",
        "\n",
        "-  The Central Limit Theorem (CLT) states that if you take many random samples of a large enough size (n) from any population — regardless of its original distribution — the sampling distribution of the sample mean will approach a normal distribution.\n",
        "\n"
      ],
      "metadata": {
        "id": "Xw6W0xGWBxHy"
      }
    },
    {
      "cell_type": "markdown",
      "source": [
        "14.  How does the Central Limit Theorem relate to the normal distribution ?\n",
        "\n",
        "1:   CLT produces a normal distribution from any population:\n",
        "\n",
        "According to CLT, if we take many random samples (usually n ≥ 30) from any population, and calculate their means, the distribution of those sample means will be approximately normal, even if the original data is skewed or irregular.\n",
        "\n",
        "2:  The sampling distribution of the sample mean becomes normal:\n",
        "\n",
        "As the sample size increases, the distribution of sample means tends to follow a normal distribution centered around the population mean (μ).\n",
        "\n",
        "3:  Standard deviation of this new normal curve:\n",
        "\n",
        "The spread of this new \"normal-like\" sampling distribution is called the standard error, and it's calculated as:\n",
        "4:  Normal distribution becomes the tool for inference:\n",
        "\n",
        "Thanks to CLT, we can apply normal distribution-based formulas to:\n",
        "\n",
        "-  Build confidence intervals\n",
        "\n",
        "-  Perform hypothesis testing\n",
        "\n",
        "-  Use Z-tables and t-tables\n",
        "\n"
      ],
      "metadata": {
        "id": "LQZENmF1CDix"
      }
    },
    {
      "cell_type": "markdown",
      "source": [
        "15.What is the application of Z statistics in hypothesis testing?\n",
        "\n",
        "-  The Z-statistic (or Z-score) measures how many standard deviations a data point or sample statistic is from the population mean.\n",
        "In hypothesis testing, it is used to determine whether the sample data is significantly different from the population or another group.\n",
        "\n"
      ],
      "metadata": {
        "id": "YvLLZCVvDUEw"
      }
    },
    {
      "cell_type": "markdown",
      "source": [
        "16. How do you calculate a Z-score, and what does it represent?\n",
        "\n",
        "-  A Z-score tells you how many standard deviations a data point is from the mean of a distribution.\n",
        "\n",
        "-  It standardizes a value so you can compare it to other data points or to the normal distribution.\n",
        "\n",
        "FORMULA : Z = X - μ/𝜎\n",
        "\n",
        "\n"
      ],
      "metadata": {
        "id": "44MSxoyUD3yP"
      }
    },
    {
      "cell_type": "markdown",
      "source": [
        "17. What are point estimates and interval estimates in statistics?\n",
        "-  A point estimate is a single value calculated from sample data that serves as the best guess or estimate of an unknown population parameter (like mean, proportion, variance).\n",
        "\n",
        "It gives a specific number as the estimate.\n",
        "\n",
        "Example: The sample mean\n",
        "𝑋\n",
        "ˉ\n",
        "=\n",
        "50\n",
        "X\n",
        "ˉ\n",
        " =50 is a point estimate of the population mean\n",
        "𝜇\n",
        "μ.\n",
        "-  An interval estimate provides a range of values within which the population parameter is expected to lie, along with a certain level of confidence.\n",
        "\n",
        "It accounts for uncertainty in the estimate.\n",
        "\n",
        "Often expressed as a confidence interval (CI).\n",
        "\n",
        "Example: A 95% confidence interval for a population mean might be\n",
        "48\n",
        "≤\n",
        "𝜇\n",
        "≤\n",
        "52\n",
        "48≤μ≤52, meaning we are 95% confident that the true mean lies within this range.\n",
        "\n"
      ],
      "metadata": {
        "id": "2lJVXlZdEd80"
      }
    },
    {
      "cell_type": "markdown",
      "source": [
        "18.  What is the significance of confidence intervals in statistical analysis?\n",
        "\n",
        "-  A confidence interval is a range of values, derived from sample data, that is likely to contain the true population parameter (like mean or proportion) with a specified level of confidence (e.g., 95%)."
      ],
      "metadata": {
        "id": "zWFhr0qYF-Zi"
      }
    },
    {
      "cell_type": "markdown",
      "source": [
        "19. What is the relationship between a Z-score and a confidence interval?\n",
        "\n",
        "-  Understanding the Basics:\n",
        "\n",
        " Z-score is a value from the standard normal distribution that tells how many standard deviations a point is from the mean.\n",
        "\n",
        " Confidence interval (CI) is a range of values around a sample estimate used to estimate a population parameter with a certain confidence level (like 90%, 95%, 99%).\n",
        "\n"
      ],
      "metadata": {
        "id": "lLi2UI2QGS_u"
      }
    },
    {
      "cell_type": "markdown",
      "source": [
        "20.  How are Z-scores used to compare different distributions?\n",
        "\n",
        "- A Z-score tells how many standard deviations a value is away from its own distribution’s mean. It standardizes the value regardless of the original unit or scale.\n",
        "\n",
        "-  Why Compare Different Distributions?\n",
        "\n",
        "  Different datasets can have different means and standard deviations.\n",
        "\n",
        "  Comparing raw values directly is not meaningful if scales differ.\n",
        "\n",
        "  We need a common standard scale to compare values from different datasets.\n",
        "\n",
        "\n",
        "\n"
      ],
      "metadata": {
        "id": "uv80NwwRG_x3"
      }
    },
    {
      "cell_type": "code",
      "execution_count": null,
      "metadata": {
        "id": "bXbB7EZbyIfK"
      },
      "outputs": [],
      "source": [
        "21. What are the assumptions for applying the Central Limit Theorem?\n",
        "\n",
        "-  Key Assumptions for CLT to Hold:\n",
        "\n",
        "1 Independent Samples:\n",
        "-  The data points in the sample must be independent of each other.\n",
        " For example, in random sampling, each observation is independent.\n",
        "\n",
        "2 Sample Size is Large Enough:\n",
        "\n",
        "  Typically, a sample size\n",
        " 𝑛\n",
        " ≥\n",
        " 30\n",
        " n≥30 is considered sufficient for the CLT to hold well.\n",
        "\n",
        " For populations that are already normal, even small samples are fine.\n",
        "\n",
        "3 Random Sampling:\n",
        "\n",
        "The sample should be drawn randomly from the population to avoid bias.\n",
        "\n",
        "4 Finite Variance:\n",
        "\n",
        "The population from which the sample is drawn should have a finite variance (standard deviation).\n"
      ]
    },
    {
      "cell_type": "markdown",
      "source": [
        "22. What is the concept of expected value in a probability distribution?\n",
        "\n",
        "-  The expected value (also called the mean) of a probability distribution is the long-run average value or weighted average of all possible outcomes, where each outcome is weighted by its probability.\n",
        "\n",
        "- It represents the center or balance point of the distribution—the value you expect to get on average if you repeat the random experiment many times.\n",
        "\n"
      ],
      "metadata": {
        "id": "-mtyGuJMI7rG"
      }
    },
    {
      "cell_type": "markdown",
      "source": [
        "23. How does a probability distribution relate to the expected outcome of a random variable?\n",
        "\n",
        "-   Understanding the Concepts:\n",
        "\n",
        " A random variable represents possible outcomes of a random experiment.\n",
        "\n",
        " A probability distribution assigns probabilities to each possible outcome of the random variable.\n",
        "\n",
        " The expected outcome (or expected value) is the average value you expect from the random variable when considering all possible outcomes and their probabilities.\n",
        "\n"
      ],
      "metadata": {
        "id": "0k9mei9mJN6a"
      }
    },
    {
      "cell_type": "markdown",
      "source": [],
      "metadata": {
        "id": "z0pEto7_yKzf"
      }
    }
  ]
}